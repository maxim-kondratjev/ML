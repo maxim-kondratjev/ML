{
 "cells": [
  {
   "cell_type": "code",
   "execution_count": 19,
   "metadata": {
    "scrolled": true
   },
   "outputs": [
    {
     "data": {
      "text/plain": [
       "SalePrice               1.000000\n",
       "OverallQual             0.790982\n",
       "GrLivArea               0.708624\n",
       "GarageCars              0.640409\n",
       "GarageArea              0.623431\n",
       "TotalBsmtSF             0.613581\n",
       "1stFlrSF                0.605852\n",
       "ExterQual_TA            0.589044\n",
       "FullBath                0.560664\n",
       "BsmtQual_Ex             0.553105\n",
       "TotRmsAbvGrd            0.533723\n",
       "YearBuilt               0.522897\n",
       "KitchenQual_TA          0.519298\n",
       "GarageFinish_Unf        0.513906\n",
       "YearRemodAdd            0.507101\n",
       "KitchenQual_Ex          0.504094\n",
       "BsmtQual_TA             0.498545\n",
       "Foundation_PConc        0.497734\n",
       "MasVnrArea              0.472614\n",
       "Fireplaces              0.466929\n",
       "GarageYrBlt             0.466754\n",
       "ExterQual_Gd            0.452466\n",
       "ExterQual_Ex            0.451164\n",
       "BsmtFinType1_GLQ        0.434597\n",
       "HeatingQC_Ex            0.434543\n",
       "GarageFinish_Fin        0.419678\n",
       "Neighborhood_NridgHt    0.402149\n",
       "BsmtFinSF1              0.386420\n",
       "MasVnrType_None         0.367456\n",
       "SaleType_New            0.357509\n",
       "                          ...   \n",
       "Functional_Sev          0.017116\n",
       "BsmtHalfBath            0.016844\n",
       "Exterior2nd_Stone       0.016754\n",
       "RoofStyle_Flat          0.016433\n",
       "PoolQC_Fa               0.016127\n",
       "Functional_Mod          0.016073\n",
       "SaleCondition_Alloca    0.015525\n",
       "Neighborhood_SawyerW    0.014560\n",
       "Condition2_RRAn         0.014510\n",
       "RoofMatl_Roll           0.014479\n",
       "SaleType_ConLI          0.014371\n",
       "Utilities               0.014314\n",
       "Foundation_Stone        0.012103\n",
       "ExterCond_Ex            0.011663\n",
       "BsmtFinSF2              0.011378\n",
       "RoofMatl_ClyTile        0.006897\n",
       "LotConfig_FR2           0.006859\n",
       "Condition1_RRAn         0.005893\n",
       "Fence_GdPrv             0.005152\n",
       "RoofMatl_Tar&Grv        0.004921\n",
       "MiscFeature_Gar2        0.004744\n",
       "Condition1_RRNe         0.004584\n",
       "LotConfig_Corner        0.004145\n",
       "BldgType_TwnhsE         0.003804\n",
       "Condition2_RRAe         0.002993\n",
       "Foundation_Wood         0.002711\n",
       "GarageCond_Gd           0.000983\n",
       "RoofStyle_Mansard       0.000308\n",
       "RoofMatl_Metal          0.000304\n",
       "BsmtFinType2_GLQ        0.000076\n",
       "Name: SalePrice, Length: 286, dtype: float64"
      ]
     },
     "execution_count": 19,
     "metadata": {},
     "output_type": "execute_result"
    }
   ],
   "source": [
    "import pandas as pd\n",
    "import numpy as np\n",
    "import matplotlib.pyplot as plt\n",
    "from sklearn.linear_model import LinearRegression\n",
    "from sklearn.model_selection import train_test_split\n",
    "from sklearn.preprocessing import MinMaxScaler\n",
    "from sklearn.metrics import mean_absolute_error\n",
    "plt.style.use('ggplot')\n",
    "%matplotlib inline\n",
    "arr1 = []\n",
    "data = pd.read_csv('C:/Users/User/Desktop/train.csv',  na_values='?')\n",
    "#print (data.head(1460))\n",
    "#plt.plot(data['GrLivArea'], data['SalePrice'], 'ro')\n",
    "categorical_columns = [c for c in data.columns if data[c].dtype.name == 'object']\n",
    "numerical_columns   = [c for c in data.columns if data[c].dtype.name != 'object']\n",
    "#заполнение нулевых значений\n",
    "#для числовых\n",
    "data = data.fillna(data.median(axis=0), axis=0)\n",
    "#Для категориальных\n",
    "data_describe = data.describe(include=[object])\n",
    "for c in categorical_columns:\n",
    "    data[c] = data[c].fillna(data_describe[c]['top'])\n",
    "\n",
    "#data.count(axis=0)\n",
    "binary_columns    = [c for c in categorical_columns if data_describe[c]['unique'] == 2]\n",
    "nonbinary_columns = [c for c in categorical_columns if data_describe[c]['unique'] > 2]\n",
    "\n",
    "#избавление от бинарных категориальных признаков\n",
    "for c in binary_columns:\n",
    "    top = data_describe[c]['top']\n",
    "    top_items = data[c] == top\n",
    "    data.loc[top_items, c] = 0\n",
    "    data.loc[np.logical_not(top_items), c] = 1\n",
    "#data[binary_columns].describe()\n",
    "#избавление от не бинарных категориальных признаков\n",
    "data_nonbinary = pd.get_dummies(data[nonbinary_columns])\n",
    "#print (data_nonbinary.columns)\n",
    "#нормализация \n",
    "data_numerical = data[numerical_columns]\n",
    "data_numerical = (data_numerical - data_numerical.mean()) / data_numerical.std()\n",
    "data_numerical.describe()\n",
    "#все в одну таблицу\n",
    "data = pd.concat((data_numerical, data[binary_columns], data_nonbinary), axis=1)\n",
    "data = pd.DataFrame(data, dtype=float)\n",
    "#print (data.shape)\n",
    "#print (data.columns)\n",
    "\n",
    "data.corr()['SalePrice'].abs().sort_values(ascending=False)\n",
    "\n",
    "#data.corr()\n",
    "#полученные значения корреляции\n",
    "#рассмотрим первые несколько значений\n",
    "\n",
    "\n"
   ]
  },
  {
   "cell_type": "code",
   "execution_count": 22,
   "metadata": {},
   "outputs": [
    {
     "name": "stdout",
     "output_type": "stream",
     "text": [
      "(1460, 10)\n",
      "(1460,)\n",
      "1022 438\n"
     ]
    }
   ],
   "source": [
    "data=data[['SalePrice','OverallQual','GrLivArea','GarageCars','TotalBsmtSF','ExterQual_TA',\n",
    "           'FullBath','BsmtQual_Ex','YearBuilt','KitchenQual_TA','YearRemodAdd', 'KitchenQual_Ex']]\n",
    "data\n",
    "#выделение X и Y\n",
    "X = data.drop(('SalePrice'), axis=1)  # Выбрасываем столбец 'SalePrice'.\n",
    "y = data['SalePrice']\n",
    "feature_names = X.columns\n",
    "#print (feature_names)\n",
    "print (X.shape)\n",
    "print (y.shape)\n",
    "N, d = X.shape\n",
    "#разделение данных\n",
    "from sklearn.cross_validation import train_test_split\n",
    "X_train, X_test, y_train, y_test = train_test_split(X, y, test_size = 0.3, random_state = 11)\n",
    "\n",
    "N_train, _ = X_train.shape \n",
    "N_test,  _ = X_test.shape \n",
    "print (N_train, N_test)\n"
   ]
  },
  {
   "cell_type": "code",
   "execution_count": 1,
   "metadata": {},
   "outputs": [
    {
     "ename": "NameError",
     "evalue": "name 'LinearRegression' is not defined",
     "output_type": "error",
     "traceback": [
      "\u001b[1;31m---------------------------------------------------------------------------\u001b[0m",
      "\u001b[1;31mNameError\u001b[0m                                 Traceback (most recent call last)",
      "\u001b[1;32m<ipython-input-1-dff782ae48a7>\u001b[0m in \u001b[0;36m<module>\u001b[1;34m()\u001b[0m\n\u001b[1;32m----> 1\u001b[1;33m \u001b[0mlr\u001b[0m \u001b[1;33m=\u001b[0m \u001b[0mLinearRegression\u001b[0m\u001b[1;33m(\u001b[0m\u001b[1;33m)\u001b[0m\u001b[1;33m\u001b[0m\u001b[0m\n\u001b[0m\u001b[0;32m      2\u001b[0m \u001b[0mlr\u001b[0m\u001b[1;33m.\u001b[0m\u001b[0mfit\u001b[0m\u001b[1;33m(\u001b[0m\u001b[0mX_train\u001b[0m\u001b[1;33m,\u001b[0m \u001b[0my_train\u001b[0m\u001b[1;33m)\u001b[0m\u001b[1;33m\u001b[0m\u001b[0m\n\u001b[0;32m      3\u001b[0m \u001b[0mprint\u001b[0m\u001b[1;33m(\u001b[0m\u001b[0mmean_absolute_error\u001b[0m\u001b[1;33m(\u001b[0m\u001b[0my_test\u001b[0m\u001b[1;33m,\u001b[0m \u001b[0mlr\u001b[0m\u001b[1;33m.\u001b[0m\u001b[0mpredict\u001b[0m\u001b[1;33m(\u001b[0m\u001b[0mX_test\u001b[0m\u001b[1;33m)\u001b[0m\u001b[1;33m)\u001b[0m\u001b[1;33m)\u001b[0m\u001b[1;33m\u001b[0m\u001b[0m\n\u001b[0;32m      4\u001b[0m \u001b[0mprint\u001b[0m\u001b[1;33m(\u001b[0m\u001b[0mrmsle\u001b[0m\u001b[1;33m(\u001b[0m\u001b[0my_test\u001b[0m\u001b[1;33m,\u001b[0m \u001b[0mlr\u001b[0m\u001b[1;33m.\u001b[0m\u001b[0mpredict\u001b[0m\u001b[1;33m(\u001b[0m\u001b[0mX_test\u001b[0m\u001b[1;33m)\u001b[0m\u001b[1;33m)\u001b[0m\u001b[1;33m)\u001b[0m\u001b[1;33m\u001b[0m\u001b[0m\n",
      "\u001b[1;31mNameError\u001b[0m: name 'LinearRegression' is not defined"
     ]
    }
   ],
   "source": [
    "lr = LinearRegression()\n",
    "lr.fit(X_train, y_train)\n",
    "print(mean_absolute_error(y_test, lr.predict(X_test)))\n",
    "print(rmsle(y_test, lr.predict(X_test)))"
   ]
  },
  {
   "cell_type": "code",
   "execution_count": null,
   "metadata": {},
   "outputs": [],
   "source": []
  }
 ],
 "metadata": {
  "kernelspec": {
   "display_name": "Python 3",
   "language": "python",
   "name": "python3"
  },
  "language_info": {
   "codemirror_mode": {
    "name": "ipython",
    "version": 3
   },
   "file_extension": ".py",
   "mimetype": "text/x-python",
   "name": "python",
   "nbconvert_exporter": "python",
   "pygments_lexer": "ipython3",
   "version": "3.6.4"
  }
 },
 "nbformat": 4,
 "nbformat_minor": 2
}
