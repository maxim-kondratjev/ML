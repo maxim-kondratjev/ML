{
 "cells": [
  {
   "cell_type": "code",
   "execution_count": 1,
   "metadata": {},
   "outputs": [
    {
     "name": "stdout",
     "output_type": "stream",
     "text": [
      "Populating the interactive namespace from numpy and matplotlib\n"
     ]
    }
   ],
   "source": [
    "import pandas as pd\n",
    "import numpy as np\n",
    "import seaborn as sns\n",
    "from sklearn.linear_model import LinearRegression, Lasso\n",
    "from sklearn.model_selection import train_test_split\n",
    "from sklearn.metrics import mean_absolute_error\n",
    "from sklearn.preprocessing import OneHotEncoder, LabelEncoder, StandardScaler, LabelBinarizer\n",
    "\n",
    "%pylab inline\n",
    "pd.options.mode.chained_assignment = None # чтобы странные варнинги не выдавал"
   ]
  },
  {
   "cell_type": "code",
   "execution_count": 2,
   "metadata": {},
   "outputs": [],
   "source": [
    "def rmsle(y_true,y_pred):\n",
    "   assert len(y_true) == len(y_pred)\n",
    "   return np.square(np.log(y_pred + 1) - np.log(y_true + 1)).mean() ** 0.5"
   ]
  },
  {
   "cell_type": "code",
   "execution_count": 3,
   "metadata": {},
   "outputs": [],
   "source": [
    "df = pd.read_csv('train.csv')"
   ]
  },
  {
   "cell_type": "code",
   "execution_count": 4,
   "metadata": {},
   "outputs": [],
   "source": [
    "df = df.drop(['Id','Alley', 'FireplaceQu', 'PoolQC', 'Fence', 'MiscFeature'], axis=1)"
   ]
  },
  {
   "cell_type": "code",
   "execution_count": 5,
   "metadata": {},
   "outputs": [],
   "source": [
    "X = df.drop('SalePrice', axis=1)\n",
    "y = df['SalePrice'].values"
   ]
  },
  {
   "cell_type": "code",
   "execution_count": 6,
   "metadata": {},
   "outputs": [
    {
     "data": {
      "text/plain": [
       "(0, 500000)"
      ]
     },
     "execution_count": 6,
     "metadata": {},
     "output_type": "execute_result"
    },
    {
     "data": {
      "image/png": "[encoded data removed]",
      "text/plain": [
       "<matplotlib.figure.Figure at 0xc2f2390828>"
      ]
     },
     "metadata": {},
     "output_type": "display_data"
    }
   ],
   "source": [
    "plt.scatter(X['LotArea'], y, s=2)\n",
    "plt.xlim(0, 25000)\n",
    "plt.ylim(0, 500000)"
   ]
  },
  {
   "cell_type": "code",
   "execution_count": 7,
   "metadata": {},
   "outputs": [],
   "source": [
    "cont_features = X.select_dtypes(include=['int64', 'float64'])\n",
    "for col in cont_features.columns:\n",
    "    cont_features[col] = cont_features[col].fillna(cont_features[col].mean())"
   ]
  },
  {
   "cell_type": "code",
   "execution_count": 8,
   "metadata": {},
   "outputs": [],
   "source": [
    "cat_features = X.select_dtypes(include=['object'])"
   ]
  },
  {
   "cell_type": "code",
   "execution_count": 9,
   "metadata": {},
   "outputs": [],
   "source": [
    "le_for_feature = {}\n",
    "cat_for_feature = {}\n",
    "\n",
    "for col in cat_features.columns:\n",
    "    cat_for_feature[col] = {}\n",
    "    cat_for_feature[col]['unique'] = cat_features[col].unique()\n",
    "    cat_for_feature[col]['most_frequent'] = cat_features[col].value_counts().idxmax()\n",
    "    \n",
    "    le = LabelEncoder()\n",
    "    le.fit(cat_features[col].astype(str))\n",
    "    cat_features[col] = le.transform(cat_features[col].astype(str))\n",
    "    le_for_feature[col] = le"
   ]
  },
  {
   "cell_type": "code",
   "execution_count": 10,
   "metadata": {},
   "outputs": [],
   "source": [
    "ohe = OneHotEncoder()\n",
    "encoded_cat = pd.DataFrame(ohe.fit_transform(cat_features).toarray())"
   ]
  },
  {
   "cell_type": "code",
   "execution_count": 11,
   "metadata": {},
   "outputs": [],
   "source": [
    "X = cont_features.join(encoded_cat)"
   ]
  },
  {
   "cell_type": "code",
   "execution_count": 12,
   "metadata": {},
   "outputs": [],
   "source": [
    "X_train, X_test, y_train, y_test = train_test_split(X, y, test_size=0.25)"
   ]
  },
  {
   "cell_type": "code",
   "execution_count": 13,
   "metadata": {},
   "outputs": [
    {
     "name": "stdout",
     "output_type": "stream",
     "text": [
      "17936.465641488227\n",
      "0.20806362239114645\n"
     ]
    }
   ],
   "source": [
    "lr = LinearRegression()\n",
    "lr.fit(X_train, y_train)\n",
    "print(mean_absolute_error(y_test, lr.predict(X_test)))\n",
    "print(rmsle(y_test, lr.predict(X_test)))"
   ]
  },
  {
   "cell_type": "code",
   "execution_count": 14,
   "metadata": {},
   "outputs": [],
   "source": [
    "class myLinearRegression:\n",
    "    def fit(self, X, y):\n",
    "        self.W = np.dot(np.linalg.pinv(X), y)\n",
    "    \n",
    "    def predict(self, X_test):\n",
    "        return np.dot(X_test, self.W)"
   ]
  },
  {
   "cell_type": "code",
   "execution_count": 15,
   "metadata": {},
   "outputs": [
    {
     "name": "stdout",
     "output_type": "stream",
     "text": [
      "17951.966259384964\n",
      "0.207960743173745\n"
     ]
    }
   ],
   "source": [
    "my_lr = myLinearRegression()\n",
    "my_lr.fit(X_train, y_train)\n",
    "print(mean_absolute_error(y_test, my_lr.predict(X_test)))\n",
    "print(rmsle(y_test, my_lr.predict(X_test)))"
   ]
  },
  {
   "cell_type": "code",
   "execution_count": 16,
   "metadata": {},
   "outputs": [],
   "source": [
    "my_lr.fit(X, y)"
   ]
  },
  {
   "cell_type": "code",
   "execution_count": 17,
   "metadata": {},
   "outputs": [],
   "source": [
    "data = pd.read_csv(\"test.csv\")"
   ]
  },
  {
   "cell_type": "code",
   "execution_count": 18,
   "metadata": {},
   "outputs": [],
   "source": [
    "ids = data['Id']\n",
    "X_test = data[list(cat_features.columns) + list(cont_features.columns)]"
   ]
  },
  {
   "cell_type": "code",
   "execution_count": 19,
   "metadata": {},
   "outputs": [
    {
     "name": "stdout",
     "output_type": "stream",
     "text": [
      "(1459, 74) (1460, 281)\n"
     ]
    }
   ],
   "source": [
    "print(X_test.shape, X.shape)"
   ]
  },
  {
   "cell_type": "code",
   "execution_count": 20,
   "metadata": {},
   "outputs": [],
   "source": [
    "cont_features_test = X_test.select_dtypes(include=['int64', 'float64'])\n",
    "for col in cont_features_test.columns:\n",
    "    cont_features_test[col] = cont_features_test[col].fillna(cont_features_test[col].mean())"
   ]
  },
  {
   "cell_type": "code",
   "execution_count": 21,
   "metadata": {},
   "outputs": [],
   "source": [
    "cat_features_test = X_test.select_dtypes(include=['object'])\n",
    "replace_dict = {}\n",
    "\n",
    "for col in cat_features_test.columns:\n",
    "    replace_dict[col] = dict.fromkeys(\n",
    "        (set(cat_features_test[col].unique()) - set(cat_for_feature[col]['unique'])), \n",
    "        cat_for_feature[col]['most_frequent'])"
   ]
  },
  {
   "cell_type": "code",
   "execution_count": 22,
   "metadata": {},
   "outputs": [],
   "source": [
    "cat_features_test.replace(replace_dict, inplace=True)"
   ]
  },
  {
   "cell_type": "code",
   "execution_count": 23,
   "metadata": {},
   "outputs": [],
   "source": [
    "for col in cat_features_test.columns:\n",
    "    cat_features_test[col] = le_for_feature[col].transform(cat_features_test[col].astype(str))"
   ]
  },
  {
   "cell_type": "code",
   "execution_count": 24,
   "metadata": {},
   "outputs": [],
   "source": [
    "encoded_cat_test = pd.DataFrame(ohe.transform(cat_features_test).toarray())\n",
    "\n",
    "X_test = cont_features_test.join(encoded_cat_test)"
   ]
  },
  {
   "cell_type": "code",
   "execution_count": 25,
   "metadata": {},
   "outputs": [
    {
     "name": "stdout",
     "output_type": "stream",
     "text": [
      "(1459, 281) (1460, 281)\n"
     ]
    }
   ],
   "source": [
    "print(X_test.shape, X.shape)"
   ]
  },
  {
   "cell_type": "code",
   "execution_count": 26,
   "metadata": {},
   "outputs": [
    {
     "name": "stdout",
     "output_type": "stream",
     "text": [
      "        Id              0\n",
      "0     1461  121751.715698\n",
      "1     1462  169168.929063\n",
      "2     1463  198385.773651\n",
      "3     1464  205762.246668\n",
      "4     1465  211132.261903\n",
      "5     1466  181373.117307\n",
      "6     1467  190472.739249\n",
      "7     1468  167898.833180\n",
      "8     1469  213370.349690\n",
      "9     1470  124344.758337\n",
      "10    1471  173410.150417\n",
      "11    1472  105794.534769\n",
      "12    1473  102458.188071\n",
      "13    1474  153591.662823\n",
      "14    1475  115122.371447\n",
      "15    1476  385455.260815\n",
      "16    1477  269193.976530\n",
      "17    1478  320832.775152\n",
      "18    1479  313695.677058\n",
      "19    1480  489448.809107\n",
      "20    1481  322066.676934\n",
      "21    1482  213092.791414\n",
      "22    1483  186765.535058\n",
      "23    1484  169373.357473\n",
      "24    1485  186515.148394\n",
      "25    1486  198480.128449\n",
      "26    1487  344366.893204\n",
      "27    1488  228825.042097\n",
      "28    1489  213203.015714\n",
      "29    1490  267844.817481\n",
      "...    ...            ...\n",
      "1429  2890   88115.180029\n",
      "1430  2891  165358.102558\n",
      "1431  2892   17280.763194\n",
      "1432  2893   82162.048053\n",
      "1433  2894   17892.793850\n",
      "1434  2895  357178.284066\n",
      "1435  2896  299998.223510\n",
      "1436  2897  232841.464992\n",
      "1437  2898  130989.306732\n",
      "1438  2899  210337.587175\n",
      "1439  2900  167683.340190\n",
      "1440  2901  242243.335543\n",
      "1441  2902  175638.736690\n",
      "1442  2903  322044.735780\n",
      "1443  2904  364310.898336\n",
      "1444  2905   75150.150752\n",
      "1445  2906  198666.621301\n",
      "1446  2907  109905.520925\n",
      "1447  2908  115337.418838\n",
      "1448  2909  133309.900315\n",
      "1449  2910   84191.459384\n",
      "1450  2911   78943.747187\n",
      "1451  2912  153796.451838\n",
      "1452  2913   83565.004624\n",
      "1453  2914   81447.677489\n",
      "1454  2915   93096.508745\n",
      "1455  2916   88541.132101\n",
      "1456  2917  189529.211556\n",
      "1457  2918  119661.091498\n",
      "1458  2919  232062.710174\n",
      "\n",
      "[1459 rows x 2 columns]\n"
     ]
    }
   ],
   "source": [
    "ans = pd.concat([ids, pd.DataFrame(my_lr.predict(X_test))+9000], axis=1)\n",
    "print(ans)"
   ]
  },
  {
   "cell_type": "code",
   "execution_count": 27,
   "metadata": {},
   "outputs": [],
   "source": [
    "ans1 = ans.rename({ans.columns[1]: 'SalePrice'}, axis=1)"
   ]
  },
  {
   "cell_type": "code",
   "execution_count": 28,
   "metadata": {},
   "outputs": [],
   "source": [
    "ans1.to_csv(\"submission.csv\", index=False)"
   ]
  },
  {
   "cell_type": "code",
   "execution_count": null,
   "metadata": {},
   "outputs": [],
   "source": []
  },
  {
   "cell_type": "code",
   "execution_count": null,
   "metadata": {},
   "outputs": [],
   "source": []
  }
 ],
 "metadata": {
  "kernelspec": {
   "display_name": "Python 3",
   "language": "python",
   "name": "python3"
  },
  "language_info": {
   "codemirror_mode": {
    "name": "ipython",
    "version": 3
   },
   "file_extension": ".py",
   "mimetype": "text/x-python",
   "name": "python",
   "nbconvert_exporter": "python",
   "pygments_lexer": "ipython3",
   "version": "3.6.4"
  }
 },
 "nbformat": 4,
 "nbformat_minor": 2
}
