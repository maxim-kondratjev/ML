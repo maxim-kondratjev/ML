{
 "cells": [
  {
   "cell_type": "code",
   "execution_count": 1,
   "metadata": {},
   "outputs": [
    {
     "name": "stderr",
     "output_type": "stream",
     "text": [
      "Using TensorFlow backend.\n"
     ]
    }
   ],
   "source": [
    "import pandas as pd\n",
    "import numpy as np\n",
    "from sklearn.model_selection import train_test_split\n",
    "import keras"
   ]
  },
  {
   "cell_type": "markdown",
   "metadata": {},
   "source": [
    "### Считываем и преобразуем данные"
   ]
  },
  {
   "cell_type": "code",
   "execution_count": 2,
   "metadata": {
    "collapsed": true
   },
   "outputs": [],
   "source": [
    "df = pd.read_csv('train.csv')"
   ]
  },
  {
   "cell_type": "code",
   "execution_count": 3,
   "metadata": {
    "collapsed": true
   },
   "outputs": [],
   "source": [
    "pixels = df.columns.drop('label')\n",
    "y_column = 'label'"
   ]
  },
  {
   "cell_type": "code",
   "execution_count": 4,
   "metadata": {
    "scrolled": true
   },
   "outputs": [
    {
     "data": {
      "text/html": [
       "<div>\n",
       "<style>\n",
       "    .dataframe thead tr:only-child th {\n",
       "        text-align: right;\n",
       "    }\n",
       "\n",
       "    .dataframe thead th {\n",
       "        text-align: left;\n",
       "    }\n",
       "\n",
       "    .dataframe tbody tr th {\n",
       "        vertical-align: top;\n",
       "    }\n",
       "</style>\n",
       "<table border=\"1\" class=\"dataframe\">\n",
       "  <thead>\n",
       "    <tr style=\"text-align: right;\">\n",
       "      <th></th>\n",
       "      <th>label</th>\n",
       "      <th>pixel0</th>\n",
       "      <th>pixel1</th>\n",
       "      <th>pixel2</th>\n",
       "      <th>pixel3</th>\n",
       "      <th>pixel4</th>\n",
       "      <th>pixel5</th>\n",
       "      <th>pixel6</th>\n",
       "      <th>pixel7</th>\n",
       "      <th>pixel8</th>\n",
       "      <th>...</th>\n",
       "      <th>pixel774</th>\n",
       "      <th>pixel775</th>\n",
       "      <th>pixel776</th>\n",
       "      <th>pixel777</th>\n",
       "      <th>pixel778</th>\n",
       "      <th>pixel779</th>\n",
       "      <th>pixel780</th>\n",
       "      <th>pixel781</th>\n",
       "      <th>pixel782</th>\n",
       "      <th>pixel783</th>\n",
       "    </tr>\n",
       "  </thead>\n",
       "  <tbody>\n",
       "    <tr>\n",
       "      <th>0</th>\n",
       "      <td>1</td>\n",
       "      <td>0</td>\n",
       "      <td>0</td>\n",
       "      <td>0</td>\n",
       "      <td>0</td>\n",
       "      <td>0</td>\n",
       "      <td>0</td>\n",
       "      <td>0</td>\n",
       "      <td>0</td>\n",
       "      <td>0</td>\n",
       "      <td>...</td>\n",
       "      <td>0</td>\n",
       "      <td>0</td>\n",
       "      <td>0</td>\n",
       "      <td>0</td>\n",
       "      <td>0</td>\n",
       "      <td>0</td>\n",
       "      <td>0</td>\n",
       "      <td>0</td>\n",
       "      <td>0</td>\n",
       "      <td>0</td>\n",
       "    </tr>\n",
       "    <tr>\n",
       "      <th>1</th>\n",
       "      <td>0</td>\n",
       "      <td>0</td>\n",
       "      <td>0</td>\n",
       "      <td>0</td>\n",
       "      <td>0</td>\n",
       "      <td>0</td>\n",
       "      <td>0</td>\n",
       "      <td>0</td>\n",
       "      <td>0</td>\n",
       "      <td>0</td>\n",
       "      <td>...</td>\n",
       "      <td>0</td>\n",
       "      <td>0</td>\n",
       "      <td>0</td>\n",
       "      <td>0</td>\n",
       "      <td>0</td>\n",
       "      <td>0</td>\n",
       "      <td>0</td>\n",
       "      <td>0</td>\n",
       "      <td>0</td>\n",
       "      <td>0</td>\n",
       "    </tr>\n",
       "    <tr>\n",
       "      <th>2</th>\n",
       "      <td>1</td>\n",
       "      <td>0</td>\n",
       "      <td>0</td>\n",
       "      <td>0</td>\n",
       "      <td>0</td>\n",
       "      <td>0</td>\n",
       "      <td>0</td>\n",
       "      <td>0</td>\n",
       "      <td>0</td>\n",
       "      <td>0</td>\n",
       "      <td>...</td>\n",
       "      <td>0</td>\n",
       "      <td>0</td>\n",
       "      <td>0</td>\n",
       "      <td>0</td>\n",
       "      <td>0</td>\n",
       "      <td>0</td>\n",
       "      <td>0</td>\n",
       "      <td>0</td>\n",
       "      <td>0</td>\n",
       "      <td>0</td>\n",
       "    </tr>\n",
       "    <tr>\n",
       "      <th>3</th>\n",
       "      <td>4</td>\n",
       "      <td>0</td>\n",
       "      <td>0</td>\n",
       "      <td>0</td>\n",
       "      <td>0</td>\n",
       "      <td>0</td>\n",
       "      <td>0</td>\n",
       "      <td>0</td>\n",
       "      <td>0</td>\n",
       "      <td>0</td>\n",
       "      <td>...</td>\n",
       "      <td>0</td>\n",
       "      <td>0</td>\n",
       "      <td>0</td>\n",
       "      <td>0</td>\n",
       "      <td>0</td>\n",
       "      <td>0</td>\n",
       "      <td>0</td>\n",
       "      <td>0</td>\n",
       "      <td>0</td>\n",
       "      <td>0</td>\n",
       "    </tr>\n",
       "    <tr>\n",
       "      <th>4</th>\n",
       "      <td>0</td>\n",
       "      <td>0</td>\n",
       "      <td>0</td>\n",
       "      <td>0</td>\n",
       "      <td>0</td>\n",
       "      <td>0</td>\n",
       "      <td>0</td>\n",
       "      <td>0</td>\n",
       "      <td>0</td>\n",
       "      <td>0</td>\n",
       "      <td>...</td>\n",
       "      <td>0</td>\n",
       "      <td>0</td>\n",
       "      <td>0</td>\n",
       "      <td>0</td>\n",
       "      <td>0</td>\n",
       "      <td>0</td>\n",
       "      <td>0</td>\n",
       "      <td>0</td>\n",
       "      <td>0</td>\n",
       "      <td>0</td>\n",
       "    </tr>\n",
       "  </tbody>\n",
       "</table>\n",
       "<p>5 rows × 785 columns</p>\n",
       "</div>"
      ],
      "text/plain": [
       "   label  pixel0  pixel1  pixel2  pixel3  pixel4  pixel5  pixel6  pixel7  \\\n",
       "0      1       0       0       0       0       0       0       0       0   \n",
       "1      0       0       0       0       0       0       0       0       0   \n",
       "2      1       0       0       0       0       0       0       0       0   \n",
       "3      4       0       0       0       0       0       0       0       0   \n",
       "4      0       0       0       0       0       0       0       0       0   \n",
       "\n",
       "   pixel8    ...     pixel774  pixel775  pixel776  pixel777  pixel778  \\\n",
       "0       0    ...            0         0         0         0         0   \n",
       "1       0    ...            0         0         0         0         0   \n",
       "2       0    ...            0         0         0         0         0   \n",
       "3       0    ...            0         0         0         0         0   \n",
       "4       0    ...            0         0         0         0         0   \n",
       "\n",
       "   pixel779  pixel780  pixel781  pixel782  pixel783  \n",
       "0         0         0         0         0         0  \n",
       "1         0         0         0         0         0  \n",
       "2         0         0         0         0         0  \n",
       "3         0         0         0         0         0  \n",
       "4         0         0         0         0         0  \n",
       "\n",
       "[5 rows x 785 columns]"
      ]
     },
     "execution_count": 4,
     "metadata": {},
     "output_type": "execute_result"
    }
   ],
   "source": [
    "df.head()"
   ]
  },
  {
   "cell_type": "markdown",
   "metadata": {},
   "source": [
    "Каждый пиксель задан числом от 0 до 255. Для лучшей работы сети отнормируем значения"
   ]
  },
  {
   "cell_type": "code",
   "execution_count": 5,
   "metadata": {
    "collapsed": true
   },
   "outputs": [],
   "source": [
    "df[pixels] = df[pixels].applymap(lambda x: x / 255)"
   ]
  },
  {
   "cell_type": "markdown",
   "metadata": {},
   "source": [
    "Разделим датасеты и преобразуем к необходимому формату"
   ]
  },
  {
   "cell_type": "code",
   "execution_count": 6,
   "metadata": {
    "collapsed": true
   },
   "outputs": [],
   "source": [
    "train, validation = train_test_split(df, test_size=0.2)"
   ]
  },
  {
   "cell_type": "code",
   "execution_count": 7,
   "metadata": {
    "collapsed": true
   },
   "outputs": [],
   "source": [
    "x_train = train[pixels].values\n",
    "y_train = train[y_column].values\n",
    "\n",
    "x_val = validation[pixels].values\n",
    "y_val = validation[y_column].values"
   ]
  },
  {
   "cell_type": "code",
   "execution_count": 8,
   "metadata": {
    "collapsed": true
   },
   "outputs": [],
   "source": [
    "y_train = y_train.reshape((y_train.shape[0], 1))\n",
    "y_val = y_val.reshape((y_val.shape[0], 1))"
   ]
  },
  {
   "cell_type": "code",
   "execution_count": 9,
   "metadata": {},
   "outputs": [
    {
     "name": "stdout",
     "output_type": "stream",
     "text": [
      "(33600, 784) (33600, 1)\n"
     ]
    }
   ],
   "source": [
    "print(x_train.shape, y_train.shape)"
   ]
  },
  {
   "cell_type": "markdown",
   "metadata": {},
   "source": [
    "### Создаем модель"
   ]
  },
  {
   "cell_type": "markdown",
   "metadata": {},
   "source": [
    "Используем softmax, чтобы получить 1 из 10 классов (цифр). При сборке модели используем sparse_categorical_crossentropy, чтобы keras автоматически преобразовывал выход сети к номеру класса. Иначе необходимо было бы использовать функцию to_categorical, чтобы в y получить не номер класса, а вектор, в котором единица стояла бы в ячейке с номером соответствующего класса"
   ]
  },
  {
   "cell_type": "code",
   "execution_count": 10,
   "metadata": {
    "collapsed": true
   },
   "outputs": [],
   "source": [
    "from keras.layers import Dense\n",
    "from keras.models import Sequential\n",
    "\n",
    "model = Sequential()\n",
    "model.add(Dense(units=64, activation='relu', input_dim=len(pixels)))\n",
    "model.add(Dense(units=10, activation='softmax'))"
   ]
  },
  {
   "cell_type": "code",
   "execution_count": 11,
   "metadata": {
    "collapsed": true
   },
   "outputs": [],
   "source": [
    "model.compile(loss='sparse_categorical_crossentropy',\n",
    "              optimizer='sgd',\n",
    "              metrics=['accuracy'])"
   ]
  },
  {
   "cell_type": "code",
   "execution_count": 12,
   "metadata": {},
   "outputs": [
    {
     "name": "stdout",
     "output_type": "stream",
     "text": [
      "Train on 33600 samples, validate on 8400 samples\n",
      "Epoch 1/50\n",
      "33600/33600 [==============================] - 6s 178us/step - loss: 0.8910 - acc: 0.7793 - val_loss: 0.4701 - val_acc: 0.8764\n",
      "Epoch 2/50\n",
      "33600/33600 [==============================] - 10s 303us/step - loss: 0.4090 - acc: 0.8901 - val_loss: 0.3670 - val_acc: 0.8970\n",
      "Epoch 3/50\n",
      "33600/33600 [==============================] - 4s 129us/step - loss: 0.3428 - acc: 0.9039 - val_loss: 0.3265 - val_acc: 0.9033\n",
      "Epoch 4/50\n",
      "33600/33600 [==============================] - 4s 124us/step - loss: 0.3092 - acc: 0.9128 - val_loss: 0.2988 - val_acc: 0.9120\n",
      "Epoch 5/50\n",
      "33600/33600 [==============================] - 4s 117us/step - loss: 0.2857 - acc: 0.9199 - val_loss: 0.2803 - val_acc: 0.9181\n",
      "Epoch 6/50\n",
      "33600/33600 [==============================] - 5s 145us/step - loss: 0.2673 - acc: 0.9241 - val_loss: 0.2637 - val_acc: 0.9238\n",
      "Epoch 7/50\n",
      "33600/33600 [==============================] - 4s 131us/step - loss: 0.2519 - acc: 0.9299 - val_loss: 0.2518 - val_acc: 0.9274\n",
      "Epoch 8/50\n",
      "33600/33600 [==============================] - 5s 156us/step - loss: 0.2381 - acc: 0.9341 - val_loss: 0.2409 - val_acc: 0.9313\n",
      "Epoch 9/50\n",
      "33600/33600 [==============================] - 5s 154us/step - loss: 0.2264 - acc: 0.9365 - val_loss: 0.2313 - val_acc: 0.9349\n",
      "Epoch 10/50\n",
      "33600/33600 [==============================] - 5s 134us/step - loss: 0.2161 - acc: 0.9400 - val_loss: 0.2218 - val_acc: 0.9363\n",
      "Epoch 11/50\n",
      "33600/33600 [==============================] - 6s 180us/step - loss: 0.2070 - acc: 0.9423 - val_loss: 0.2157 - val_acc: 0.9396\n",
      "Epoch 12/50\n",
      "33600/33600 [==============================] - 6s 174us/step - loss: 0.1985 - acc: 0.9446 - val_loss: 0.2098 - val_acc: 0.9402\n",
      "Epoch 13/50\n",
      "33600/33600 [==============================] - 8s 227us/step - loss: 0.1908 - acc: 0.9470 - val_loss: 0.2021 - val_acc: 0.9433\n",
      "Epoch 14/50\n",
      "33600/33600 [==============================] - 6s 179us/step - loss: 0.1839 - acc: 0.9488 - val_loss: 0.1956 - val_acc: 0.9445\n",
      "Epoch 15/50\n",
      "33600/33600 [==============================] - 6s 182us/step - loss: 0.1777 - acc: 0.9503 - val_loss: 0.1929 - val_acc: 0.9452\n",
      "Epoch 16/50\n",
      "33600/33600 [==============================] - 9s 277us/step - loss: 0.1719 - acc: 0.9521 - val_loss: 0.1866 - val_acc: 0.9470\n",
      "Epoch 17/50\n",
      "33600/33600 [==============================] - 8s 225us/step - loss: 0.1663 - acc: 0.9533 - val_loss: 0.1831 - val_acc: 0.9486\n",
      "Epoch 18/50\n",
      "33600/33600 [==============================] - 5s 141us/step - loss: 0.1613 - acc: 0.9545 - val_loss: 0.1811 - val_acc: 0.9475\n",
      "Epoch 19/50\n",
      "33600/33600 [==============================] - 5s 162us/step - loss: 0.1565 - acc: 0.9561 - val_loss: 0.1761 - val_acc: 0.9507\n",
      "Epoch 20/50\n",
      "33600/33600 [==============================] - 6s 189us/step - loss: 0.1522 - acc: 0.9570 - val_loss: 0.1722 - val_acc: 0.9504\n",
      "Epoch 21/50\n",
      "33600/33600 [==============================] - 7s 213us/step - loss: 0.1477 - acc: 0.9587 - val_loss: 0.1691 - val_acc: 0.9524\n",
      "Epoch 22/50\n",
      "33600/33600 [==============================] - 8s 236us/step - loss: 0.1440 - acc: 0.9599 - val_loss: 0.1651 - val_acc: 0.9533\n",
      "Epoch 23/50\n",
      "33600/33600 [==============================] - 7s 213us/step - loss: 0.1401 - acc: 0.9611 - val_loss: 0.1631 - val_acc: 0.9543\n",
      "Epoch 24/50\n",
      "33600/33600 [==============================] - 5s 147us/step - loss: 0.1367 - acc: 0.9621 - val_loss: 0.1588 - val_acc: 0.9549\n",
      "Epoch 25/50\n",
      "33600/33600 [==============================] - 8s 238us/step - loss: 0.1329 - acc: 0.9632 - val_loss: 0.1579 - val_acc: 0.9548\n",
      "Epoch 26/50\n",
      "33600/33600 [==============================] - 7s 213us/step - loss: 0.1299 - acc: 0.9645 - val_loss: 0.1540 - val_acc: 0.9562\n",
      "Epoch 27/50\n",
      "33600/33600 [==============================] - 6s 185us/step - loss: 0.1267 - acc: 0.9646 - val_loss: 0.1527 - val_acc: 0.9570\n",
      "Epoch 28/50\n",
      "33600/33600 [==============================] - 5s 141us/step - loss: 0.1238 - acc: 0.9655 - val_loss: 0.1500 - val_acc: 0.9571\n",
      "Epoch 29/50\n",
      "33600/33600 [==============================] - 5s 155us/step - loss: 0.1208 - acc: 0.9670 - val_loss: 0.1479 - val_acc: 0.9576\n",
      "Epoch 30/50\n",
      "33600/33600 [==============================] - 5s 145us/step - loss: 0.1179 - acc: 0.9677 - val_loss: 0.1459 - val_acc: 0.9581\n",
      "Epoch 31/50\n",
      "33600/33600 [==============================] - 4s 118us/step - loss: 0.1155 - acc: 0.9683 - val_loss: 0.1439 - val_acc: 0.9579\n",
      "Epoch 32/50\n",
      "33600/33600 [==============================] - 5s 156us/step - loss: 0.1129 - acc: 0.9689 - val_loss: 0.1426 - val_acc: 0.9593\n",
      "Epoch 33/50\n",
      "33600/33600 [==============================] - 7s 195us/step - loss: 0.1105 - acc: 0.9698 - val_loss: 0.1416 - val_acc: 0.9588\n",
      "Epoch 34/50\n",
      "33600/33600 [==============================] - 6s 184us/step - loss: 0.1081 - acc: 0.9698 - val_loss: 0.1396 - val_acc: 0.9592\n",
      "Epoch 35/50\n",
      "33600/33600 [==============================] - 6s 164us/step - loss: 0.1060 - acc: 0.9710 - val_loss: 0.1366 - val_acc: 0.9615\n",
      "Epoch 36/50\n",
      "33600/33600 [==============================] - 9s 279us/step - loss: 0.1037 - acc: 0.9712 - val_loss: 0.1358 - val_acc: 0.9612\n",
      "Epoch 37/50\n",
      "33600/33600 [==============================] - 10s 290us/step - loss: 0.1016 - acc: 0.9724 - val_loss: 0.1347 - val_acc: 0.9623\n",
      "Epoch 38/50\n",
      "33600/33600 [==============================] - 6s 184us/step - loss: 0.0995 - acc: 0.9729 - val_loss: 0.1328 - val_acc: 0.9615\n",
      "Epoch 39/50\n",
      "33600/33600 [==============================] - 6s 165us/step - loss: 0.0975 - acc: 0.9731 - val_loss: 0.1350 - val_acc: 0.9618\n",
      "Epoch 40/50\n",
      "33600/33600 [==============================] - 8s 227us/step - loss: 0.0958 - acc: 0.9737 - val_loss: 0.1305 - val_acc: 0.9629\n",
      "Epoch 41/50\n",
      "33600/33600 [==============================] - 7s 199us/step - loss: 0.0937 - acc: 0.9747 - val_loss: 0.1304 - val_acc: 0.9625\n",
      "Epoch 42/50\n",
      "33600/33600 [==============================] - 9s 272us/step - loss: 0.0921 - acc: 0.9749 - val_loss: 0.1275 - val_acc: 0.9636\n",
      "Epoch 43/50\n",
      "33600/33600 [==============================] - 9s 255us/step - loss: 0.0902 - acc: 0.9757 - val_loss: 0.1270 - val_acc: 0.9631\n",
      "Epoch 44/50\n",
      "33600/33600 [==============================] - 7s 213us/step - loss: 0.0884 - acc: 0.9763 - val_loss: 0.1267 - val_acc: 0.9632\n",
      "Epoch 45/50\n",
      "33600/33600 [==============================] - 6s 183us/step - loss: 0.0869 - acc: 0.9766 - val_loss: 0.1239 - val_acc: 0.9645\n",
      "Epoch 46/50\n",
      "33600/33600 [==============================] - 6s 168us/step - loss: 0.0853 - acc: 0.9769 - val_loss: 0.1240 - val_acc: 0.9646\n",
      "Epoch 47/50\n",
      "33600/33600 [==============================] - 4s 130us/step - loss: 0.0838 - acc: 0.9774 - val_loss: 0.1232 - val_acc: 0.9644\n",
      "Epoch 48/50\n",
      "33600/33600 [==============================] - 5s 137us/step - loss: 0.0823 - acc: 0.9781 - val_loss: 0.1213 - val_acc: 0.9645\n",
      "Epoch 49/50\n",
      "33600/33600 [==============================] - 5s 136us/step - loss: 0.0809 - acc: 0.9785 - val_loss: 0.1205 - val_acc: 0.9652\n",
      "Epoch 50/50\n",
      "33600/33600 [==============================] - 4s 130us/step - loss: 0.0793 - acc: 0.9791 - val_loss: 0.1211 - val_acc: 0.9645\n"
     ]
    },
    {
     "data": {
      "text/plain": [
       "<keras.callbacks.History at 0x11c475908>"
      ]
     },
     "execution_count": 12,
     "metadata": {},
     "output_type": "execute_result"
    }
   ],
   "source": [
    "model.fit(x_train, y_train, validation_data=(x_val, y_val), epochs=50, batch_size=32)"
   ]
  }
 ],
 "metadata": {
  "kernelspec": {
   "display_name": "Python 3",
   "language": "python",
   "name": "python3"
  },
  "language_info": {
   "codemirror_mode": {
    "name": "ipython",
    "version": 3
   },
   "file_extension": ".py",
   "mimetype": "text/x-python",
   "name": "python",
   "nbconvert_exporter": "python",
   "pygments_lexer": "ipython3",
   "version": "3.6.4"
  }
 },
 "nbformat": 4,
 "nbformat_minor": 2
}
