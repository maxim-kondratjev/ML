{
 "cells": [
  {
   "cell_type": "code",
   "execution_count": 22,
   "metadata": {},
   "outputs": [],
   "source": [
    "import pandas as pd\n",
    "import numpy as np\n",
    "import matplotlib.pyplot as plt\n",
    "import seaborn as sns\n",
    "from sklearn.model_selection import train_test_split\n",
    "from sklearn.metrics import accuracy_score\n",
    "from sklearn.linear_model import LogisticRegression\n",
    "import keras"
   ]
  },
  {
   "cell_type": "code",
   "execution_count": 23,
   "metadata": {},
   "outputs": [],
   "source": [
    "df = pd.read_csv('train.csv')"
   ]
  },
  {
   "cell_type": "code",
   "execution_count": 24,
   "metadata": {},
   "outputs": [],
   "source": [
    "pixels = df.columns.drop('label')\n",
    "y_column = 'label'\n"
   ]
  },
  {
   "cell_type": "code",
   "execution_count": 25,
   "metadata": {},
   "outputs": [
    {
     "data": {
      "text/html": [
       "<div>\n",
       "<style scoped>\n",
       "    .dataframe tbody tr th:only-of-type {\n",
       "        vertical-align: middle;\n",
       "    }\n",
       "\n",
       "    .dataframe tbody tr th {\n",
       "        vertical-align: top;\n",
       "    }\n",
       "\n",
       "    .dataframe thead th {\n",
       "        text-align: right;\n",
       "    }\n",
       "</style>\n",
       "<table border=\"1\" class=\"dataframe\">\n",
       "  <thead>\n",
       "    <tr style=\"text-align: right;\">\n",
       "      <th></th>\n",
       "      <th>label</th>\n",
       "      <th>pixel0</th>\n",
       "      <th>pixel1</th>\n",
       "      <th>pixel2</th>\n",
       "      <th>pixel3</th>\n",
       "      <th>pixel4</th>\n",
       "      <th>pixel5</th>\n",
       "      <th>pixel6</th>\n",
       "      <th>pixel7</th>\n",
       "      <th>pixel8</th>\n",
       "      <th>...</th>\n",
       "      <th>pixel774</th>\n",
       "      <th>pixel775</th>\n",
       "      <th>pixel776</th>\n",
       "      <th>pixel777</th>\n",
       "      <th>pixel778</th>\n",
       "      <th>pixel779</th>\n",
       "      <th>pixel780</th>\n",
       "      <th>pixel781</th>\n",
       "      <th>pixel782</th>\n",
       "      <th>pixel783</th>\n",
       "    </tr>\n",
       "  </thead>\n",
       "  <tbody>\n",
       "    <tr>\n",
       "      <th>0</th>\n",
       "      <td>1</td>\n",
       "      <td>0</td>\n",
       "      <td>0</td>\n",
       "      <td>0</td>\n",
       "      <td>0</td>\n",
       "      <td>0</td>\n",
       "      <td>0</td>\n",
       "      <td>0</td>\n",
       "      <td>0</td>\n",
       "      <td>0</td>\n",
       "      <td>...</td>\n",
       "      <td>0</td>\n",
       "      <td>0</td>\n",
       "      <td>0</td>\n",
       "      <td>0</td>\n",
       "      <td>0</td>\n",
       "      <td>0</td>\n",
       "      <td>0</td>\n",
       "      <td>0</td>\n",
       "      <td>0</td>\n",
       "      <td>0</td>\n",
       "    </tr>\n",
       "    <tr>\n",
       "      <th>1</th>\n",
       "      <td>0</td>\n",
       "      <td>0</td>\n",
       "      <td>0</td>\n",
       "      <td>0</td>\n",
       "      <td>0</td>\n",
       "      <td>0</td>\n",
       "      <td>0</td>\n",
       "      <td>0</td>\n",
       "      <td>0</td>\n",
       "      <td>0</td>\n",
       "      <td>...</td>\n",
       "      <td>0</td>\n",
       "      <td>0</td>\n",
       "      <td>0</td>\n",
       "      <td>0</td>\n",
       "      <td>0</td>\n",
       "      <td>0</td>\n",
       "      <td>0</td>\n",
       "      <td>0</td>\n",
       "      <td>0</td>\n",
       "      <td>0</td>\n",
       "    </tr>\n",
       "    <tr>\n",
       "      <th>2</th>\n",
       "      <td>1</td>\n",
       "      <td>0</td>\n",
       "      <td>0</td>\n",
       "      <td>0</td>\n",
       "      <td>0</td>\n",
       "      <td>0</td>\n",
       "      <td>0</td>\n",
       "      <td>0</td>\n",
       "      <td>0</td>\n",
       "      <td>0</td>\n",
       "      <td>...</td>\n",
       "      <td>0</td>\n",
       "      <td>0</td>\n",
       "      <td>0</td>\n",
       "      <td>0</td>\n",
       "      <td>0</td>\n",
       "      <td>0</td>\n",
       "      <td>0</td>\n",
       "      <td>0</td>\n",
       "      <td>0</td>\n",
       "      <td>0</td>\n",
       "    </tr>\n",
       "    <tr>\n",
       "      <th>3</th>\n",
       "      <td>4</td>\n",
       "      <td>0</td>\n",
       "      <td>0</td>\n",
       "      <td>0</td>\n",
       "      <td>0</td>\n",
       "      <td>0</td>\n",
       "      <td>0</td>\n",
       "      <td>0</td>\n",
       "      <td>0</td>\n",
       "      <td>0</td>\n",
       "      <td>...</td>\n",
       "      <td>0</td>\n",
       "      <td>0</td>\n",
       "      <td>0</td>\n",
       "      <td>0</td>\n",
       "      <td>0</td>\n",
       "      <td>0</td>\n",
       "      <td>0</td>\n",
       "      <td>0</td>\n",
       "      <td>0</td>\n",
       "      <td>0</td>\n",
       "    </tr>\n",
       "    <tr>\n",
       "      <th>4</th>\n",
       "      <td>0</td>\n",
       "      <td>0</td>\n",
       "      <td>0</td>\n",
       "      <td>0</td>\n",
       "      <td>0</td>\n",
       "      <td>0</td>\n",
       "      <td>0</td>\n",
       "      <td>0</td>\n",
       "      <td>0</td>\n",
       "      <td>0</td>\n",
       "      <td>...</td>\n",
       "      <td>0</td>\n",
       "      <td>0</td>\n",
       "      <td>0</td>\n",
       "      <td>0</td>\n",
       "      <td>0</td>\n",
       "      <td>0</td>\n",
       "      <td>0</td>\n",
       "      <td>0</td>\n",
       "      <td>0</td>\n",
       "      <td>0</td>\n",
       "    </tr>\n",
       "  </tbody>\n",
       "</table>\n",
       "<p>5 rows × 785 columns</p>\n",
       "</div>"
      ],
      "text/plain": [
       "   label  pixel0  pixel1  pixel2  pixel3  pixel4  pixel5  pixel6  pixel7  \\\n",
       "0      1       0       0       0       0       0       0       0       0   \n",
       "1      0       0       0       0       0       0       0       0       0   \n",
       "2      1       0       0       0       0       0       0       0       0   \n",
       "3      4       0       0       0       0       0       0       0       0   \n",
       "4      0       0       0       0       0       0       0       0       0   \n",
       "\n",
       "   pixel8    ...     pixel774  pixel775  pixel776  pixel777  pixel778  \\\n",
       "0       0    ...            0         0         0         0         0   \n",
       "1       0    ...            0         0         0         0         0   \n",
       "2       0    ...            0         0         0         0         0   \n",
       "3       0    ...            0         0         0         0         0   \n",
       "4       0    ...            0         0         0         0         0   \n",
       "\n",
       "   pixel779  pixel780  pixel781  pixel782  pixel783  \n",
       "0         0         0         0         0         0  \n",
       "1         0         0         0         0         0  \n",
       "2         0         0         0         0         0  \n",
       "3         0         0         0         0         0  \n",
       "4         0         0         0         0         0  \n",
       "\n",
       "[5 rows x 785 columns]"
      ]
     },
     "execution_count": 25,
     "metadata": {},
     "output_type": "execute_result"
    }
   ],
   "source": [
    "df.head()"
   ]
  },
  {
   "cell_type": "code",
   "execution_count": 26,
   "metadata": {},
   "outputs": [],
   "source": [
    "#Каждый пиксель задан числом от 0 до 255. Для лучшей работы сети отнормируем значения\n",
    "df[pixels] = df[pixels].applymap(lambda x: x / 255)"
   ]
  },
  {
   "cell_type": "code",
   "execution_count": 27,
   "metadata": {},
   "outputs": [],
   "source": [
    "train, validation = train_test_split(df, test_size=0.2)"
   ]
  },
  {
   "cell_type": "code",
   "execution_count": 28,
   "metadata": {},
   "outputs": [],
   "source": [
    "x_train = train[pixels].values\n",
    "y_train = train[y_column].values\n",
    "\n",
    "x_val = validation[pixels].values\n",
    "y_val = validation[y_column].values"
   ]
  },
  {
   "cell_type": "code",
   "execution_count": 29,
   "metadata": {},
   "outputs": [],
   "source": [
    "y_train = y_train.reshape((y_train.shape[0], 1))\n",
    "y_val = y_val.reshape((y_val.shape[0], 1))"
   ]
  },
  {
   "cell_type": "code",
   "execution_count": 30,
   "metadata": {},
   "outputs": [
    {
     "name": "stdout",
     "output_type": "stream",
     "text": [
      "(33600, 784) (33600, 1)\n"
     ]
    }
   ],
   "source": [
    "print(x_train.shape, y_train.shape)"
   ]
  },
  {
   "cell_type": "code",
   "execution_count": 31,
   "metadata": {},
   "outputs": [
    {
     "name": "stderr",
     "output_type": "stream",
     "text": [
      "C:\\ProgramData\\Anaconda3\\lib\\site-packages\\sklearn\\utils\\validation.py:578: DataConversionWarning: A column-vector y was passed when a 1d array was expected. Please change the shape of y to (n_samples, ), for example using ravel().\n",
      "  y = column_or_1d(y, warn=True)\n"
     ]
    },
    {
     "data": {
      "text/plain": [
       "LogisticRegression(C=1.0, class_weight=None, dual=False, fit_intercept=True,\n",
       "          intercept_scaling=1, max_iter=100, multi_class='ovr', n_jobs=1,\n",
       "          penalty='l2', random_state=None, solver='liblinear', tol=0.0001,\n",
       "          verbose=0, warm_start=False)"
      ]
     },
     "execution_count": 31,
     "metadata": {},
     "output_type": "execute_result"
    }
   ],
   "source": [
    "lr = LogisticRegression()\n",
    "lr.fit(x_train, y_train)"
   ]
  },
  {
   "cell_type": "code",
   "execution_count": 32,
   "metadata": {},
   "outputs": [
    {
     "data": {
      "text/plain": [
       "0.9148809523809524"
      ]
     },
     "execution_count": 32,
     "metadata": {},
     "output_type": "execute_result"
    }
   ],
   "source": [
    "accuracy_score(y_val, lr.predict(x_val))"
   ]
  },
  {
   "cell_type": "code",
   "execution_count": 36,
   "metadata": {},
   "outputs": [],
   "source": [
    "from keras.layers import Dense\n",
    "from keras.models import Sequential\n",
    "\n",
    "model = Sequential()\n",
    "model.add(Dense(units=64, activation='relu', input_dim=len(pixels)))\n",
    "model.add(Dense(units=10, activation='softmax'))"
   ]
  },
  {
   "cell_type": "code",
   "execution_count": 37,
   "metadata": {},
   "outputs": [],
   "source": [
    "model.compile(loss='sparse_categorical_crossentropy',\n",
    "              optimizer='sgd',\n",
    "              metrics=['accuracy'])"
   ]
  },
  {
   "cell_type": "code",
   "execution_count": 40,
   "metadata": {},
   "outputs": [
    {
     "name": "stdout",
     "output_type": "stream",
     "text": [
      "Train on 33600 samples, validate on 8400 samples\n",
      "Epoch 1/25\n",
      "33600/33600 [==============================] - 5s 150us/step - loss: 0.0440 - acc: 0.9897 - val_loss: 0.1163 - val_acc: 0.9686\n",
      "Epoch 2/25\n",
      "33600/33600 [==============================] - 5s 151us/step - loss: 0.0431 - acc: 0.9900 - val_loss: 0.1130 - val_acc: 0.9677\n",
      "Epoch 3/25\n",
      "33600/33600 [==============================] - 5s 151us/step - loss: 0.0419 - acc: 0.9899 - val_loss: 0.1123 - val_acc: 0.9680\n",
      "Epoch 4/25\n",
      "33600/33600 [==============================] - 5s 150us/step - loss: 0.0406 - acc: 0.9913 - val_loss: 0.1118 - val_acc: 0.9682\n",
      "Epoch 5/25\n",
      "33600/33600 [==============================] - 5s 151us/step - loss: 0.0399 - acc: 0.9913 - val_loss: 0.1126 - val_acc: 0.9681\n",
      "Epoch 6/25\n",
      "33600/33600 [==============================] - 5s 151us/step - loss: 0.0385 - acc: 0.9917 - val_loss: 0.1121 - val_acc: 0.9677\n",
      "Epoch 7/25\n",
      "33600/33600 [==============================] - 5s 153us/step - loss: 0.0378 - acc: 0.9920 - val_loss: 0.1101 - val_acc: 0.9694\n",
      "Epoch 8/25\n",
      "33600/33600 [==============================] - 5s 153us/step - loss: 0.0368 - acc: 0.9923 - val_loss: 0.1120 - val_acc: 0.9679\n",
      "Epoch 9/25\n",
      "33600/33600 [==============================] - 5s 152us/step - loss: 0.0359 - acc: 0.9925 - val_loss: 0.1109 - val_acc: 0.9693\n",
      "Epoch 10/25\n",
      "33600/33600 [==============================] - 5s 154us/step - loss: 0.0349 - acc: 0.9929 - val_loss: 0.1118 - val_acc: 0.9680\n",
      "Epoch 11/25\n",
      "33600/33600 [==============================] - 5s 154us/step - loss: 0.0338 - acc: 0.9932 - val_loss: 0.1111 - val_acc: 0.9677\n",
      "Epoch 12/25\n",
      "33600/33600 [==============================] - 5s 155us/step - loss: 0.0330 - acc: 0.9935 - val_loss: 0.1109 - val_acc: 0.9686\n",
      "Epoch 13/25\n",
      "33600/33600 [==============================] - 5s 155us/step - loss: 0.0322 - acc: 0.9937 - val_loss: 0.1105 - val_acc: 0.9688\n",
      "Epoch 14/25\n",
      "33600/33600 [==============================] - 5s 156us/step - loss: 0.0315 - acc: 0.9938 - val_loss: 0.1109 - val_acc: 0.9677\n",
      "Epoch 15/25\n",
      "33600/33600 [==============================] - 5s 156us/step - loss: 0.0308 - acc: 0.9940 - val_loss: 0.1114 - val_acc: 0.9682\n",
      "Epoch 16/25\n",
      "33600/33600 [==============================] - 5s 156us/step - loss: 0.0299 - acc: 0.9944 - val_loss: 0.1118 - val_acc: 0.9667\n",
      "Epoch 17/25\n",
      "33600/33600 [==============================] - 5s 156us/step - loss: 0.0293 - acc: 0.9946 - val_loss: 0.1098 - val_acc: 0.9696\n",
      "Epoch 18/25\n",
      "33600/33600 [==============================] - 5s 156us/step - loss: 0.0287 - acc: 0.9946 - val_loss: 0.1091 - val_acc: 0.9690\n",
      "Epoch 19/25\n",
      "33600/33600 [==============================] - 5s 157us/step - loss: 0.0277 - acc: 0.9950 - val_loss: 0.1113 - val_acc: 0.9686\n",
      "Epoch 20/25\n",
      "33600/33600 [==============================] - 5s 156us/step - loss: 0.0270 - acc: 0.9954 - val_loss: 0.1114 - val_acc: 0.9686\n",
      "Epoch 21/25\n",
      "33600/33600 [==============================] - 5s 157us/step - loss: 0.0268 - acc: 0.9952 - val_loss: 0.1094 - val_acc: 0.9687\n",
      "Epoch 22/25\n",
      "33600/33600 [==============================] - 5s 156us/step - loss: 0.0259 - acc: 0.9958 - val_loss: 0.1127 - val_acc: 0.9683\n",
      "Epoch 23/25\n",
      "33600/33600 [==============================] - 5s 157us/step - loss: 0.0253 - acc: 0.9957 - val_loss: 0.1101 - val_acc: 0.9687\n",
      "Epoch 24/25\n",
      "33600/33600 [==============================] - 5s 157us/step - loss: 0.0247 - acc: 0.9958 - val_loss: 0.1110 - val_acc: 0.9689\n",
      "Epoch 25/25\n",
      "33600/33600 [==============================] - 5s 157us/step - loss: 0.0242 - acc: 0.9960 - val_loss: 0.1097 - val_acc: 0.9685\n"
     ]
    },
    {
     "data": {
      "text/plain": [
       "<keras.callbacks.History at 0x7182d5b4a8>"
      ]
     },
     "execution_count": 40,
     "metadata": {},
     "output_type": "execute_result"
    }
   ],
   "source": [
    "model.fit(x_train, y_train, validation_data=(x_val, y_val), epochs=25, batch_size=16)"
   ]
  },
  {
   "cell_type": "code",
   "execution_count": null,
   "metadata": {},
   "outputs": [],
   "source": []
  }
 ],
 "metadata": {
  "kernelspec": {
   "display_name": "Python 3",
   "language": "python",
   "name": "python3"
  },
  "language_info": {
   "codemirror_mode": {
    "name": "ipython",
    "version": 3
   },
   "file_extension": ".py",
   "mimetype": "text/x-python",
   "name": "python",
   "nbconvert_exporter": "python",
   "pygments_lexer": "ipython3",
   "version": "3.6.4"
  }
 },
 "nbformat": 4,
 "nbformat_minor": 2
}
