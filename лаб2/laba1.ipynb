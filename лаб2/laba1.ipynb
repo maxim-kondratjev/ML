{
 "cells": [
  {
   "cell_type": "code",
   "execution_count": 89,
   "metadata": {},
   "outputs": [],
   "source": [
    "from functools import reduce\n",
    "import requests\n",
    "\n",
    "def med(values):\n",
    "    sorted_values = sorted(values)\n",
    "    if len(sorted_values) == 0:\n",
    "        return 0\n",
    "    else:\n",
    "        return int(sorted_values[len(sorted_values)//2])"
   ]
  },
  {
   "cell_type": "code",
   "execution_count": 90,
   "metadata": {},
   "outputs": [],
   "source": [
    "r = requests.get('http://api.hh.ru/vacancies?text={}&per_page=100'.format('python'))"
   ]
  },
  {
   "cell_type": "code",
   "execution_count": 91,
   "metadata": {},
   "outputs": [],
   "source": [
    "vacancies = r.json()['items']\n",
    "#print(vacancies)"
   ]
  },
  {
   "cell_type": "code",
   "execution_count": 92,
   "metadata": {},
   "outputs": [],
   "source": [
    "grouped_vacancies = dict()\n",
    "for vac in vacancies:\n",
    "    if vac['name'] in grouped_vacancies:\n",
    "        grouped_vacancies[vac['name']].append(vac)\n",
    "    else:\n",
    "        grouped_vacancies[vac['name']] = [vac]\n",
    "#grouped_vacancies"
   ]
  },
  {
   "cell_type": "code",
   "execution_count": 107,
   "metadata": {
    "scrolled": true
   },
   "outputs": [],
   "source": [
    "salaries = {name: med(map(lambda x: (x['salary']['from'] + x['salary']['to'])/2 \n",
    "                          if x['salary']['to'] and x['salary']['from']\n",
    "                          else x['salary']['from'] or 0 + x['salary']['to'] or 0,\n",
    "                          filter(lambda x: x['salary']['currency'] == 'RUR',\n",
    "                          filter(lambda x: x['salary'], cur))))\n",
    "                          for name, cur in grouped_vacancies.items()}\n",
    "\n",
    "#for name, salary in salaries.items():\n",
    " #   print(name, ' -> ', salary)"
   ]
  },
  {
   "cell_type": "code",
   "execution_count": 108,
   "metadata": {},
   "outputs": [],
   "source": [
    "#sort_nonzero_sal=sorted(filter(lambda x: x[1]!=0, salaries.items()), key=lambda x:x[1])\n",
    "#sort_nonzero_sal\n",
    "#после сорта это лист!"
   ]
  },
  {
   "cell_type": "code",
   "execution_count": 109,
   "metadata": {},
   "outputs": [],
   "source": [
    "ranges=[(0,80000),(80000,120000),(120000,150000),(150000,200000),(200000,300000),(300000, None)]\n",
    "#for rng in ranges:\n",
    " #   print(rng[1])"
   ]
  },
  {
   "cell_type": "code",
   "execution_count": 110,
   "metadata": {},
   "outputs": [
    {
     "data": {
      "text/plain": [
       "[{'Python / Django разработчик': 50000,\n",
       "  'Python/Django разработчик': 70000,\n",
       "  'Опытный backend разработчик (Python)': 60000,\n",
       "  'Разработчик Python (senior/middle)': 65000},\n",
       " {'Python девелопер': 80000,\n",
       "  'Senior Backend Developer (Python, Golang)': 110000,\n",
       "  'Senior Python / Django разработчик': 110000,\n",
       "  'Web developer Python\\\\Django': 90000,\n",
       "  'Программист Python': 100000,\n",
       "  'Программист-разработчик Python': 105000,\n",
       "  'Разработчик python/django': 105000,\n",
       "  'Разработчик на языке Python': 100000},\n",
       " {'Senior Python developer (Ведущий программист Python)': 120000,\n",
       "  'Программист Python (Django)': 145000,\n",
       "  'Программист Python (Openstack, Ansible)': 125000,\n",
       "  'Программист-разработчик (Python)': 140000},\n",
       " {'Backend разработчик Python': 155000,\n",
       "  'Middle Python Developer/ Python Разработчик': 160000,\n",
       "  'Python Developer': 190000,\n",
       "  'Python Devepoler (SEOquake Team)': 150000,\n",
       "  'Python разработчик': 162500,\n",
       "  'Python-разработчик': 160000,\n",
       "  'Senior Back-end программист (Python)': 165000,\n",
       "  'Ведущий Python-разработчик': 165000,\n",
       "  'Ведущий разработчик (Python)': 180000,\n",
       "  'Ведущий разработчик Python': 160000,\n",
       "  'Разработчик Python': 175000},\n",
       " {'Senior Python разработчик': 250000},\n",
       " {}]"
      ]
     },
     "execution_count": 110,
     "metadata": {},
     "output_type": "execute_result"
    }
   ],
   "source": [
    "interval_sal=list(dict(filter(lambda x:  rng[0]<=x[1] and x[1]<rng[1] if rng[1]!=None else rng[0]<=x[1], \n",
    "                    list(filter(lambda x: x[1]!=0, salaries.items())))) for rng in ranges) \n",
    "#interval_sal"
   ]
  },
  {
   "cell_type": "code",
   "execution_count": 116,
   "metadata": {},
   "outputs": [
    {
     "data": {
      "text/plain": [
       "[4, 8, 4, 11, 1, 0]"
      ]
     },
     "execution_count": 116,
     "metadata": {},
     "output_type": "execute_result"
    }
   ],
   "source": [
    "diagram_data=list(map(lambda x:len(x.items()), interval_sal))\n",
    "#diagram_data"
   ]
  },
  {
   "cell_type": "code",
   "execution_count": 1,
   "metadata": {},
   "outputs": [
    {
     "ename": "ModuleNotFoundError",
     "evalue": "No module named 'matrolib'",
     "output_type": "error",
     "traceback": [
      "\u001b[1;31m---------------------------------------------------------------------------\u001b[0m",
      "\u001b[1;31mModuleNotFoundError\u001b[0m                       Traceback (most recent call last)",
      "\u001b[1;32m<ipython-input-1-6b1e19a3bc90>\u001b[0m in \u001b[0;36m<module>\u001b[1;34m()\u001b[0m\n\u001b[1;32m----> 1\u001b[1;33m \u001b[1;32mimport\u001b[0m \u001b[0mmatrolib\u001b[0m\u001b[1;33m.\u001b[0m\u001b[0mpyplot\u001b[0m \u001b[1;32mas\u001b[0m \u001b[0mplt\u001b[0m\u001b[1;33m\u001b[0m\u001b[0m\n\u001b[0m",
      "\u001b[1;31mModuleNotFoundError\u001b[0m: No module named 'matrolib'"
     ]
    }
   ],
   "source": [
    "#НУЖНО СКАЧАТЬ МАТРОЛИБ\n",
    "#import matrolib.pyplot as plt"
   ]
  },
  {
   "cell_type": "code",
   "execution_count": null,
   "metadata": {},
   "outputs": [],
   "source": []
  }
 ],
 "metadata": {
  "kernelspec": {
   "display_name": "Python 3",
   "language": "python",
   "name": "python3"
  },
  "language_info": {
   "codemirror_mode": {
    "name": "ipython",
    "version": 3
   },
   "file_extension": ".py",
   "mimetype": "text/x-python",
   "name": "python",
   "nbconvert_exporter": "python",
   "pygments_lexer": "ipython3",
   "version": "3.6.4"
  }
 },
 "nbformat": 4,
 "nbformat_minor": 2
}
